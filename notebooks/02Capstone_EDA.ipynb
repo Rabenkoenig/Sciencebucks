{
 "cells": [
  {
   "cell_type": "markdown",
   "metadata": {},
   "source": [
    "### 3. **Data Analysis and Exploration**\n",
    "\n",
    "   - **EDA Notebook**:\n",
    "     - **Profile Data**: Explore demographics such as age, income, gender, and membership duration. Use visualizations like histograms and bar plots to understand each feature.\n",
    "     - **Portfolio Data**: Analyze offer types (e.g., BOGO, discount, informational), rewards, and validity periods.\n",
    "     - **Transcript Data**: Examine the sequence of events (offers received, viewed, completed, purchases).\n",
    "     - **Feature Engineering**: Identify potential features, such as “days_since_signup” or “spending_category,” that could enhance the model.\n",
    "\n",
    "   - **Visualization**:\n",
    "     - Visualize correlations between demographics and offer types or engagement patterns. For example, create line plots for offer response rates over time by demographic.\n",
    "     - Identify trends and insights in customer behavior that will inform later steps.\n",
    "\n",
    "---"
   ]
  }
 ],
 "metadata": {
  "kernelspec": {
   "display_name": "base",
   "language": "python",
   "name": "python3"
  },
  "language_info": {
   "name": "python",
   "version": "3.11.7"
  }
 },
 "nbformat": 4,
 "nbformat_minor": 2
}
